{
 "cells": [
  {
   "attachments": {},
   "cell_type": "markdown",
   "metadata": {},
   "source": [
    "## NumPy"
   ]
  },
  {
   "attachments": {},
   "cell_type": "markdown",
   "metadata": {},
   "source": [
    "### Credit, Thanks, and Purpose\n",
    "To Shashank Kalanithi, whose warmth, courage to err and correct, knowledge, and hours of labor have gone into producing dozens of videos and Notion Documents on data science and analytics, from theory to technique -- all taught masterfully -- thank you.\n",
    "\n",
    "I produced this notebook as a repository for my own understanding and plan to add to it as I learn more. I hope it might serve a similarly useful pedagogic purpose to others at the beginning of thier Python journey, and that those with greater expertise might correct any errors or misapprehensions they notice to help create a useful set of references that future us will be happy to have.\n",
    "\n",
    "Much of the fundamentals of this knowledge are based on Shashank's video \"Python for Data Scientists and Data Analysts\"; I strongly encourage you to support him in any way you can and make use of the explanations, documents, and courses he produces. I have found them to be excellent resources and trust that anyone wanting to brush up on their knowledge or learn the basics will as well.\n",
    "\n",
    "https://www.youtube.com/watch?v=sZDgJKI8DAM&ab_channel=ShashankKalanithi leads to \"Python for Data Scientists and Analysts\"\n",
    "https://numpy.org/doc/stable/user/absolute_beginners.html leads to the NumPy documentation -- an excellent instructional tool and the original source for much of the information here"
   ]
  },
  {
   "cell_type": "code",
   "execution_count": 2,
   "metadata": {},
   "outputs": [],
   "source": [
    "# Numpy is a mathematical library for Python which forms the foundation of many more advanced and useful libraries for data analysis...\n",
    "# ... as such, a thorough understanding of it isn't required but is useful.\n",
    "\n",
    "import numpy as np"
   ]
  },
  {
   "attachments": {},
   "cell_type": "markdown",
   "metadata": {},
   "source": [
    "### Arrays and Reshaping"
   ]
  },
  {
   "cell_type": "code",
   "execution_count": 3,
   "metadata": {},
   "outputs": [
    {
     "data": {
      "text/plain": [
       "array([ 1,  3,  5,  7,  9, 11])"
      ]
     },
     "execution_count": 3,
     "metadata": {},
     "output_type": "execute_result"
    }
   ],
   "source": [
    "# Numpy arrays are the same as Python lists, but: They are faster and are able to be manipulated by Numpy methods.\n",
    "\n",
    "numpy_array_test = np.array([1, 3, 5, 7, 9, 11]) # <-- Note that within the parentheses, list brackets must be included.\n",
    "numpy_array_test"
   ]
  },
  {
   "cell_type": "code",
   "execution_count": 4,
   "metadata": {},
   "outputs": [
    {
     "data": {
      "text/plain": [
       "array([[ 1,  3,  5],\n",
       "       [ 7,  9, 11]])"
      ]
     },
     "execution_count": 4,
     "metadata": {},
     "output_type": "execute_result"
    }
   ],
   "source": [
    "# Numpy arrays can be reshaped from 1D arrays, as shown above, to 2D and 3D arrays (effectively tables):\n",
    "\n",
    "numpy_array_test1 = np.array([1, 3, 5, 7, 9, 11]).reshape(2,3) # <-- 2 denotes the # of rows and 3 the # of columns\n",
    "numpy_array_test1                                              # .reshape is attached to the array to actiate the reformatting"
   ]
  },
  {
   "cell_type": "code",
   "execution_count": 5,
   "metadata": {},
   "outputs": [
    {
     "data": {
      "text/plain": [
       "array([[[ 1,  3],\n",
       "        [ 5,  7]],\n",
       "\n",
       "       [[ 9, 11],\n",
       "        [13, 15]]])"
      ]
     },
     "execution_count": 5,
     "metadata": {},
     "output_type": "execute_result"
    }
   ],
   "source": [
    "numpy_array_test3 = np.array([1, 3, 5, 7, 9, 11, 13, 15]).reshape(2,2,2) # <- 2 rows, 2 columns, in 2 tables\n",
    "numpy_array_test3"
   ]
  },
  {
   "attachments": {},
   "cell_type": "markdown",
   "metadata": {},
   "source": [
    "### Numpy Arithmetic Methods"
   ]
  },
  {
   "cell_type": "code",
   "execution_count": 6,
   "metadata": {},
   "outputs": [
    {
     "name": "stdout",
     "output_type": "stream",
     "text": [
      "21\n",
      "1\n",
      "6\n",
      "3.5\n",
      "1.707825127659933\n"
     ]
    }
   ],
   "source": [
    "q = np.array([1,2,3,4,5,6])\n",
    "\n",
    "print(q.sum())\n",
    "print(q.min())\n",
    "print(q.max())\n",
    "print(q.mean())\n",
    "print(q.std())"
   ]
  },
  {
   "attachments": {},
   "cell_type": "markdown",
   "metadata": {},
   "source": [
    "### Numpy Special Arrays"
   ]
  },
  {
   "cell_type": "code",
   "execution_count": 7,
   "metadata": {},
   "outputs": [
    {
     "data": {
      "text/plain": [
       "array([0., 0., 0., 0., 0.])"
      ]
     },
     "execution_count": 7,
     "metadata": {},
     "output_type": "execute_result"
    }
   ],
   "source": [
    "np.zeros(5)                 # Creates an array of zeros with 5 elements\n"
   ]
  },
  {
   "cell_type": "code",
   "execution_count": 8,
   "metadata": {},
   "outputs": [
    {
     "data": {
      "text/plain": [
       "array([0.        , 0.55555556, 1.11111111, 1.66666667, 2.22222222,\n",
       "       2.77777778, 3.33333333, 3.88888889, 4.44444444, 5.        ])"
      ]
     },
     "execution_count": 8,
     "metadata": {},
     "output_type": "execute_result"
    }
   ],
   "source": [
    "np.linspace(0, 5, 10)       # Creates an array of values from 0 through 5 in 10 even spaces"
   ]
  },
  {
   "cell_type": "code",
   "execution_count": 9,
   "metadata": {},
   "outputs": [
    {
     "data": {
      "text/plain": [
       "array([0.57140618, 0.91560591, 0.99640795, 0.59419406, 0.62084616])"
      ]
     },
     "execution_count": 9,
     "metadata": {},
     "output_type": "execute_result"
    }
   ],
   "source": [
    "np.random.rand(5)           # Three random values between 0 and 1"
   ]
  },
  {
   "cell_type": "code",
   "execution_count": 10,
   "metadata": {},
   "outputs": [
    {
     "data": {
      "text/plain": [
       "40"
      ]
     },
     "execution_count": 10,
     "metadata": {},
     "output_type": "execute_result"
    }
   ],
   "source": [
    "np.random.randint(1, 100)  # Generates a random integer between 1 and 100"
   ]
  },
  {
   "cell_type": "code",
   "execution_count": 11,
   "metadata": {},
   "outputs": [
    {
     "data": {
      "text/plain": [
       "array([0, 1, 2, 3, 4])"
      ]
     },
     "execution_count": 11,
     "metadata": {},
     "output_type": "execute_result"
    }
   ],
   "source": [
    "np.arange(5)               # Provides a range of integers from x-y, in this case 0-5, since the beginning was unspecified.\n",
    "                             # Range beginnings and end are separated by comma. ( , )"
   ]
  },
  {
   "attachments": {},
   "cell_type": "markdown",
   "metadata": {},
   "source": [
    "## Reading & Understanding the NumPy Documentation Guide"
   ]
  },
  {
   "cell_type": "code",
   "execution_count": 12,
   "metadata": {},
   "outputs": [],
   "source": [
    "import numpy as np # np is the conventional alias for numpy, and as such, should always be used"
   ]
  },
  {
   "attachments": {},
   "cell_type": "markdown",
   "metadata": {},
   "source": [
    "### NumPy Arrays: Why they're better than Python lists, how they're indexed & elements accessed, and what determines thier rank and shape"
   ]
  },
  {
   "cell_type": "code",
   "execution_count": 13,
   "metadata": {},
   "outputs": [],
   "source": [
    "a = np.array([[1, 2, 3, 4], [5, 6, 7, 8], [9, 10, 11, 12]]) # Here, a Numpy array is generated. Arrays are similar to Python lists-\n",
    "# -however, they are uniformly classified by dtype (the type of data in the array) in a homogeneous manner, which allows for more-\n",
    "# -efficient, problem-free calculations. Moreover, the Numpy array is more compact and therefore faster, meaning that complex operations-\n",
    "# -are themselves more efficient.\n",
    "\n",
    "# As shown in the above array, a nested list allows for each element of the array to itself be composed of several sub-elements, in this-\n",
    "# -case numbers. Arrays can be indexed \"by a tuple of nonnegative integers, by booleans, by another array, or by integers.\" Their rank-\n",
    "# -is determined by the number of dimensions in the array. In this example, the array has 2 dimensions (height and width). Their shape is-\n",
    "# -determined by a \"touple of integers giving the size of the array along each dimension\", for example height 100, width 5 for a 2d array."
   ]
  },
  {
   "cell_type": "code",
   "execution_count": 14,
   "metadata": {},
   "outputs": [
    {
     "name": "stdout",
     "output_type": "stream",
     "text": [
      "[1 2 3 4]\n"
     ]
    }
   ],
   "source": [
    "# Accessing (indexing) the information stored in an array is done with brackets, as follows, and the index of elements begins count at 0-\n",
    "# -as is the case in standard Python. As such, if you wanted to acces the first element [1, 2, 3, 4] from the above array, you would write:\n",
    "print(a[0])"
   ]
  },
  {
   "attachments": {},
   "cell_type": "markdown",
   "metadata": {},
   "source": [
    "### Explanation of Numpy Arrays & Relevant Terminology (Vectors, Matrixes, & Array Dimensionality/Axes)"
   ]
  },
  {
   "cell_type": "code",
   "execution_count": 15,
   "metadata": {},
   "outputs": [],
   "source": [
    "# NDarray is a data class in Numpy. It stands for N-dimensional array, that is to say, an array of an undefined number of dimensions.\n",
    "# 1D array is a VECTOR, a 2D array is a MATRIX, and an array with 3 or more dimensions is called a TENSOR.\n",
    "\n",
    "# Logically, dimensions are called axes in Numpy, as they refer to the number of axes we imagine on a Cartesian plane.\n",
    "# 1D would compose a line, 2d would compose a rectangle, and 3d would compose a cuboid."
   ]
  },
  {
   "cell_type": "code",
   "execution_count": 16,
   "metadata": {},
   "outputs": [
    {
     "data": {
      "text/plain": [
       "[[0.0, 0.0, 0.0], [1.0, 1.0, 1.0]]"
      ]
     },
     "execution_count": 16,
     "metadata": {},
     "output_type": "execute_result"
    }
   ],
   "source": [
    "[[0., 0., 0.],\n",
    " [1., 1., 1.]]\n",
    "\n",
    "# Here, the array has 2 dimensions (axes). The first axis (vertical) has a length of 2, and the second (horizontal) has a length of 3\n",
    "# Therefore, a rectangular shape is formed, which can be thought of as 2 in height and 3 in width."
   ]
  },
  {
   "attachments": {},
   "cell_type": "markdown",
   "metadata": {},
   "source": [
    "### Array Creation: Different Types of Arrays"
   ]
  },
  {
   "cell_type": "code",
   "execution_count": 17,
   "metadata": {},
   "outputs": [
    {
     "name": "stdout",
     "output_type": "stream",
     "text": [
      "[1 2 3]\n",
      "[0. 0.]\n",
      "[0. 0. 0. 0. 0. 0. 0. 0. 0. 0. 0. 0. 0. 0.]\n",
      "[0 0 0 0 0 0 0 0 0 0 0 0 0 0]\n"
     ]
    }
   ],
   "source": [
    "a = np.array([1, 2, 3])\n",
    "print(a)\n",
    "# Above, a vertical column containing the numbers 1 , 2 , 3 is created. 1 axis, 1D.\n",
    "\n",
    "# Instead of specifying the particular contents within each element (cell) of the array, one can specify the number of elements and-\n",
    "# -fill them with the number specified by the name, for example:\n",
    "b = np.zeros(2) # The 2 inside the parentheses specifies the number of elements and the method \"zeros\" fills them with zeros.\n",
    "print(b)\n",
    "np.ones(2)\n",
    "# NOTE: In Numpy, like other libraries, there is often no need to print() code to execute and display it. Here, the first 2 lines of code-\n",
    "# -are printed in order for them to be displayed, whilst the last line can be left without a variable assignment.\n",
    "\n",
    "c = np.empty(14) # This creates an array of random elements; useful for creating a random dataset or random IDs. NOTE: the elements-\n",
    "print(c) # -created are floats and ARE NOT unique, as such, some care must be taken in utilizing this for a random set. It does appear-\n",
    "# -to me that the elements are either all identical or all unique, depending on the number of elements: 1,2,3,8,9,14 have all been-\n",
    "# -identified as producing all identical elements. Others certainly exist.\n",
    "\n",
    "np.arange(5) # This creates a range of integers from 0 to whatever number is contained within the parentheses, in this case 5:\n",
    "\n",
    "# Range of integer arrays can further be specified by adding 2 numbers into the argument: 1) the first number of the range, 2) the last-\n",
    "# -number of the range, and 3) the \"step\" size of the numbers in between -- arithmetic sequencing, essentially, as shown here:\n",
    "\n",
    "np.arange(1, 20, 3.66)\n",
    "\n",
    "# Lastly, using the linspace method, one can specify the first and last numbers of an array and then the number of intervals in between-\n",
    "# -the first and last, for example:\n",
    "np.linspace(0, 10, num=2)\n",
    "\n",
    "# Lastly, within the arguments for any of the above methods and, indeed, nearly all methods in Numpy, one can specify the datatype of-\n",
    "# -the data produced, for instance:\n",
    "d = np.empty(14, dtype=np.int64)\n",
    "print(d)"
   ]
  },
  {
   "attachments": {},
   "cell_type": "markdown",
   "metadata": {},
   "source": [
    "### Adding, Removing, and Sorting Elements\n",
    "\n",
    "This will cover np.sort() and np.concatenate()"
   ]
  },
  {
   "cell_type": "code",
   "execution_count": 18,
   "metadata": {},
   "outputs": [
    {
     "name": "stdout",
     "output_type": "stream",
     "text": [
      "[2 1 5 3 7 4 6 8]\n"
     ]
    }
   ],
   "source": [
    "arr = np.array([2, 1, 5, 3, 7, 4, 6, 8]) # Here, we have merely created a specific array of unsorted numbers, to be used later\n",
    "print(arr)"
   ]
  },
  {
   "cell_type": "code",
   "execution_count": 19,
   "metadata": {},
   "outputs": [
    {
     "data": {
      "text/plain": [
       "array([1, 2, 0], dtype=int64)"
      ]
     },
     "execution_count": 19,
     "metadata": {},
     "output_type": "execute_result"
    }
   ],
   "source": [
    "np.sort(arr) # Here, the sort() method is used to sort the numbers in the arr object in ascending order\n",
    "\n",
    "# The following sorting mechanisms exist also:\n",
    "\n",
    "# argsort(a, axis=-1, kind=None, order=None) which \"Perform an indirect sort along the given axis using the algorithm specified by-\n",
    "# -the kind keyword\". Usefuleness and implementation of argsort is  unclear.\n",
    "\n",
    "# lexsort(keys, axis=-1) which \"Given multiple sorting keys, which can be interpreted as columns in a spreadsheet, lexsort returns-\n",
    "# -an array of integer indices that describes the sort order by multiple columns.\" NOTE: Here is an extended example of how lexsort can-\n",
    "# -be used:\n",
    "\n",
    "surnames =    ('Hertz',    'Galilei', 'Hertz') # Two arrays are defined. Surnames, here and below->\n",
    "first_names = ('Heinrich', 'Galileo', 'Gustav') # The first names are defined.\n",
    "ind = np.lexsort((first_names, surnames)) # Then, lexsort called ind returns the index of each pair (Herts + Heinrich = 1, for example)\n",
    "ind"
   ]
  },
  {
   "cell_type": "code",
   "execution_count": 20,
   "metadata": {},
   "outputs": [
    {
     "data": {
      "text/plain": [
       "['Galilei, Galileo', 'Hertz, Gustav', 'Hertz, Heinrich']"
      ]
     },
     "execution_count": 20,
     "metadata": {},
     "output_type": "execute_result"
    }
   ],
   "source": [
    "[surnames[i] + \", \" + first_names[i] for i in ind] # Here, quite simply, the variable i allows for a function to loop through the \"columns\"-\n",
    "# -created by lexsort called ind. For each i (number), the function returns the first name and surname, split by a comma and space."
   ]
  },
  {
   "cell_type": "code",
   "execution_count": 21,
   "metadata": {},
   "outputs": [
    {
     "data": {
      "text/plain": [
       "array([1, 2, 3, 4, 5, 6, 7, 8])"
      ]
     },
     "execution_count": 21,
     "metadata": {},
     "output_type": "execute_result"
    }
   ],
   "source": [
    "# CONCATENATION, as with the same function in Excel, is used to combine several elements together\n",
    "a = np.array([1, 2, 3, 4])\n",
    "b = np.array([5, 6, 7, 8])\n",
    "np.concatenate((a, b)) # As demonstrated, the two arrays a and b are combined with the concatonate method"
   ]
  },
  {
   "cell_type": "code",
   "execution_count": 22,
   "metadata": {},
   "outputs": [
    {
     "data": {
      "text/plain": [
       "array([[1, 2],\n",
       "       [3, 4],\n",
       "       [5, 6]])"
      ]
     },
     "execution_count": 22,
     "metadata": {},
     "output_type": "execute_result"
    }
   ],
   "source": [
    "# Like the example above, elements which contain several numbers (2d arays) can be concatenated with a 1d array to produce a longer-\n",
    "# -2d array, as seen here:\n",
    "\n",
    "x = np.array([[1, 2], [3, 4]])\n",
    "y = np.array([[5, 6]])\n",
    "np.concatenate((x, y), axis=0) # As demonstrated, the two arrays are concatenated into a larger 2d array "
   ]
  },
  {
   "attachments": {},
   "cell_type": "markdown",
   "metadata": {},
   "source": [
    "### Knowing the Shape and Size of Arrays:\n",
    "This will cover ndarray.ndim, ndarray.size, ndarray.shape"
   ]
  },
  {
   "cell_type": "code",
   "execution_count": null,
   "metadata": {},
   "outputs": [],
   "source": [
    "# ndarray.ndim reports back the number of dimensions/axes of an array: a 2D array has, naturally, 2 axes\n",
    "\n",
    "# ndarray.size reports back the number of elements of an array, that is, the product of individual axis elements: a 2D array\n",
    "# with 3 columns and 2 rows will have 6 elements (2*3=6)"
   ]
  }
 ],
 "metadata": {
  "kernelspec": {
   "display_name": "primedesk_dal",
   "language": "python",
   "name": "python3"
  },
  "language_info": {
   "codemirror_mode": {
    "name": "ipython",
    "version": 3
   },
   "file_extension": ".py",
   "mimetype": "text/x-python",
   "name": "python",
   "nbconvert_exporter": "python",
   "pygments_lexer": "ipython3",
   "version": "3.10.9"
  },
  "orig_nbformat": 4,
  "vscode": {
   "interpreter": {
    "hash": "35d5f87d2f96cfd650c14e393ee92788d0041f123843fa1cc6bb1e15709e3aa7"
   }
  }
 },
 "nbformat": 4,
 "nbformat_minor": 2
}
