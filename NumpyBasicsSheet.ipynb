{
 "cells": [
  {
   "attachments": {},
   "cell_type": "markdown",
   "metadata": {},
   "source": [
    "## NumPy"
   ]
  },
  {
   "attachments": {},
   "cell_type": "markdown",
   "metadata": {},
   "source": [
    "### Credit, Thanks, and Purpose\n",
    "To Shashank Kalanithi, whose warmth, courage to err and correct, knowledge, and hours of labor have gone into producing dozens of videos and Notion Documents on data science and analytics, from theory to technique -- all taught masterfully -- thank you.\n",
    "\n",
    "I produced this notebook as a repository for my own understanding and plan to add to it as I learn more. I hope it might serve a similarly useful pedagogic purpose to others at the beginning of thier Python journey, and that those with greater expertise might correct any errors or misapprehensions they notice to help create a useful set of references that future us will be happy to have.\n",
    "\n",
    "Much of the fundamentals of this knowledge are based on Shashank's video \"Python for Data Scientists and Data Analysts\"; I strongly encourage you to support him in any way you can and make use of the explanations, documents, and courses he produces. I have found them to be excellent resources and trust that anyone wanting to brush up on their knowledge or learn the basics will as well.\n",
    "\n",
    "https://www.youtube.com/watch?v=sZDgJKI8DAM&ab_channel=ShashankKalanithi leads to \"Python for Data Scientists and Analysts\"\n",
    "https://numpy.org/doc/stable/user/absolute_beginners.html leads to the NumPy documentation -- an excellent instructional tool and the original source for much of the information here"
   ]
  },
  {
   "cell_type": "code",
   "execution_count": 4,
   "metadata": {},
   "outputs": [],
   "source": [
    "# Numpy is a mathematical library for Python which forms the foundation of many more advanced and useful libraries for data analysis...\n",
    "# ... as such, a thorough understanding of it isn't required but is useful.\n",
    "\n",
    "import numpy as np"
   ]
  },
  {
   "attachments": {},
   "cell_type": "markdown",
   "metadata": {},
   "source": [
    "### Arrays and Reshaping"
   ]
  },
  {
   "cell_type": "code",
   "execution_count": 5,
   "metadata": {},
   "outputs": [
    {
     "data": {
      "text/plain": [
       "array([ 1,  3,  5,  7,  9, 11])"
      ]
     },
     "execution_count": 5,
     "metadata": {},
     "output_type": "execute_result"
    }
   ],
   "source": [
    "# Numpy arrays are the same as Python lists, but: They are faster and are able to be manipulated by Numpy methods.\n",
    "\n",
    "numpy_array_test = np.array([1, 3, 5, 7, 9, 11]) # <-- Note that within the parentheses, list brackets must be included.\n",
    "numpy_array_test"
   ]
  },
  {
   "cell_type": "code",
   "execution_count": 6,
   "metadata": {},
   "outputs": [
    {
     "data": {
      "text/plain": [
       "array([[ 1,  3,  5],\n",
       "       [ 7,  9, 11]])"
      ]
     },
     "execution_count": 6,
     "metadata": {},
     "output_type": "execute_result"
    }
   ],
   "source": [
    "# Numpy arrays can be reshaped from 1D arrays, as shown above, to 2D and 3D arrays (effectively tables):\n",
    "\n",
    "numpy_array_test1 = np.array([1, 3, 5, 7, 9, 11]).reshape(2,3) # <-- 2 denotes the # of rows and 3 the # of columns\n",
    "numpy_array_test1                                              # .reshape is attached to the array to actiate the reformatting"
   ]
  },
  {
   "cell_type": "code",
   "execution_count": 7,
   "metadata": {},
   "outputs": [
    {
     "data": {
      "text/plain": [
       "array([[[ 1,  3],\n",
       "        [ 5,  7]],\n",
       "\n",
       "       [[ 9, 11],\n",
       "        [13, 15]]])"
      ]
     },
     "execution_count": 7,
     "metadata": {},
     "output_type": "execute_result"
    }
   ],
   "source": [
    "numpy_array_test3 = np.array([1, 3, 5, 7, 9, 11, 13, 15]).reshape(2,2,2) # <- 2 rows, 2 columns, in 2 tables\n",
    "numpy_array_test3"
   ]
  },
  {
   "attachments": {},
   "cell_type": "markdown",
   "metadata": {},
   "source": [
    "### Numpy Arithmetic Methods"
   ]
  },
  {
   "cell_type": "code",
   "execution_count": 8,
   "metadata": {},
   "outputs": [
    {
     "name": "stdout",
     "output_type": "stream",
     "text": [
      "21\n",
      "1\n",
      "6\n",
      "3.5\n",
      "1.707825127659933\n"
     ]
    }
   ],
   "source": [
    "q = np.array([1,2,3,4,5,6])\n",
    "\n",
    "print(q.sum())\n",
    "print(q.min())\n",
    "print(q.max())\n",
    "print(q.mean())\n",
    "print(q.std())"
   ]
  },
  {
   "attachments": {},
   "cell_type": "markdown",
   "metadata": {},
   "source": [
    "### Numpy Special Arrays"
   ]
  },
  {
   "cell_type": "code",
   "execution_count": 9,
   "metadata": {},
   "outputs": [
    {
     "data": {
      "text/plain": [
       "array([0., 0., 0., 0., 0.])"
      ]
     },
     "execution_count": 9,
     "metadata": {},
     "output_type": "execute_result"
    }
   ],
   "source": [
    "np.zeros(5)                 # Creates an array of zeros with 5 elements\n"
   ]
  },
  {
   "cell_type": "code",
   "execution_count": 10,
   "metadata": {},
   "outputs": [
    {
     "data": {
      "text/plain": [
       "array([0.        , 0.55555556, 1.11111111, 1.66666667, 2.22222222,\n",
       "       2.77777778, 3.33333333, 3.88888889, 4.44444444, 5.        ])"
      ]
     },
     "execution_count": 10,
     "metadata": {},
     "output_type": "execute_result"
    }
   ],
   "source": [
    "np.linspace(0, 5, 10)       # Creates an array of values from 0 through 5 in 10 even spaces"
   ]
  },
  {
   "cell_type": "code",
   "execution_count": 11,
   "metadata": {},
   "outputs": [
    {
     "data": {
      "text/plain": [
       "array([0.16732833, 0.13612664, 0.82299208, 0.0640486 , 0.53673605])"
      ]
     },
     "execution_count": 11,
     "metadata": {},
     "output_type": "execute_result"
    }
   ],
   "source": [
    "np.random.rand(5)           # Three random values between 0 and 1"
   ]
  },
  {
   "cell_type": "code",
   "execution_count": 12,
   "metadata": {},
   "outputs": [
    {
     "data": {
      "text/plain": [
       "64"
      ]
     },
     "execution_count": 12,
     "metadata": {},
     "output_type": "execute_result"
    }
   ],
   "source": [
    "np.random.randint(1, 100)  # Generates a random integer between 1 and 100"
   ]
  },
  {
   "cell_type": "code",
   "execution_count": 13,
   "metadata": {},
   "outputs": [
    {
     "data": {
      "text/plain": [
       "array([0, 1, 2, 3, 4])"
      ]
     },
     "execution_count": 13,
     "metadata": {},
     "output_type": "execute_result"
    }
   ],
   "source": [
    "np.arange(5)               # Provides a range of integers from x-y, in this case 0-5, since the beginning was unspecified.\n",
    "                             # Range beginnings and end are separated by comma. ( , )"
   ]
  },
  {
   "attachments": {},
   "cell_type": "markdown",
   "metadata": {},
   "source": [
    "## Reading & Understanding the NumPy Documentation Guide"
   ]
  },
  {
   "cell_type": "code",
   "execution_count": 14,
   "metadata": {},
   "outputs": [],
   "source": [
    "import numpy as np # np is the conventional alias for numpy, and as such, should always be used"
   ]
  },
  {
   "attachments": {},
   "cell_type": "markdown",
   "metadata": {},
   "source": [
    "### NumPy Arrays: Why they're better than Python lists, how they're indexed & elements accessed, and what determines thier rank and shape"
   ]
  },
  {
   "cell_type": "code",
   "execution_count": 15,
   "metadata": {},
   "outputs": [],
   "source": [
    "a = np.array([[1, 2, 3, 4], [5, 6, 7, 8], [9, 10, 11, 12]]) # Here, a Numpy array is generated. Arrays are similar to Python lists-\n",
    "# -however, they are uniformly classified by dtype (the type of data in the array) in a homogeneous manner, which allows for more-\n",
    "# -efficient, problem-free calculations. Moreover, the Numpy array is more compact and therefore faster, meaning that complex operations-\n",
    "# -are themselves more efficient.\n",
    "\n",
    "# As shown in the above array, a nested list allows for each element of the array to itself be composed of several sub-elements, in this-\n",
    "# -case numbers. Arrays can be indexed \"by a tuple of nonnegative integers, by booleans, by another array, or by integers.\" Their rank-\n",
    "# -is determined by the number of dimensions in the array. In this example, the array has 2 dimensions (height and width). Their shape is-\n",
    "# -determined by a \"touple of integers giving the size of the array along each dimension\", for example height 100, width 5 for a 2d array."
   ]
  },
  {
   "cell_type": "code",
   "execution_count": 16,
   "metadata": {},
   "outputs": [
    {
     "name": "stdout",
     "output_type": "stream",
     "text": [
      "[1 2 3 4]\n"
     ]
    }
   ],
   "source": [
    "# Accessing (indexing) the information stored in an array is done with brackets, as follows, and the index of elements begins count at 0-\n",
    "# -as is the case in standard Python. As such, if you wanted to acces the first element [1, 2, 3, 4] from the above array, you would write:\n",
    "print(a[0])"
   ]
  },
  {
   "attachments": {},
   "cell_type": "markdown",
   "metadata": {},
   "source": [
    "### Explanation of Numpy Arrays & Relevant Terminology (Vectors, Matrixes, & Array Dimensionality/Axes)"
   ]
  },
  {
   "cell_type": "code",
   "execution_count": 17,
   "metadata": {},
   "outputs": [],
   "source": [
    "# NDarray is a data class in Numpy. It stands for N-dimensional array, that is to say, an array of an undefined number of dimensions.\n",
    "# 1D array is a VECTOR, a 2D array is a MATRIX, and an array with 3 or more dimensions is called a TENSOR.\n",
    "\n",
    "# Logically, dimensions are called axes in Numpy, as they refer to the number of axes we imagine on a Cartesian plane.\n",
    "# 1D would compose a line, 2d would compose a rectangle, and 3d would compose a cuboid."
   ]
  },
  {
   "cell_type": "code",
   "execution_count": 18,
   "metadata": {},
   "outputs": [
    {
     "data": {
      "text/plain": [
       "[[0.0, 0.0, 0.0], [1.0, 1.0, 1.0]]"
      ]
     },
     "execution_count": 18,
     "metadata": {},
     "output_type": "execute_result"
    }
   ],
   "source": [
    "[[0., 0., 0.],\n",
    " [1., 1., 1.]]\n",
    "\n",
    "# Here, the array has 2 dimensions (axes). The first axis (vertical) has a length of 2, and the second (horizontal) has a length of 3\n",
    "# Therefore, a rectangular shape is formed, which can be thought of as 2 in height and 3 in width."
   ]
  },
  {
   "attachments": {},
   "cell_type": "markdown",
   "metadata": {},
   "source": [
    "### Array Creation: Different Types of Arrays"
   ]
  },
  {
   "cell_type": "code",
   "execution_count": 19,
   "metadata": {},
   "outputs": [
    {
     "name": "stdout",
     "output_type": "stream",
     "text": [
      "[1 2 3]\n",
      "[0. 0.]\n",
      "[0. 0. 0. 0. 0. 0. 0. 0. 0. 0. 0. 0. 0. 0.]\n",
      "[0 0 0 0 0 0 0 0 0 0 0 0 0 0]\n"
     ]
    }
   ],
   "source": [
    "a = np.array([1, 2, 3])\n",
    "print(a)\n",
    "# Above, a vertical column containing the numbers 1 , 2 , 3 is created. 1 axis, 1D.\n",
    "\n",
    "# Instead of specifying the particular contents within each element (cell) of the array, one can specify the number of elements and-\n",
    "# -fill them with the number specified by the name, for example:\n",
    "b = np.zeros(2) # The 2 inside the parentheses specifies the number of elements and the method \"zeros\" fills them with zeros.\n",
    "print(b)\n",
    "np.ones(2)\n",
    "# NOTE: In Numpy, like other libraries, there is often no need to print() code to execute and display it. Here, the first 2 lines of code-\n",
    "# -are printed in order for them to be displayed, whilst the last line can be left without a variable assignment.\n",
    "\n",
    "c = np.empty(14) # This creates an array of random elements; useful for creating a random dataset or random IDs. NOTE: the elements-\n",
    "print(c) # -created are floats and ARE NOT unique, as such, some care must be taken in utilizing this for a random set. It does appear-\n",
    "# -to me that the elements are either all identical or all unique, depending on the number of elements: 1,2,3,8,9,14 have all been-\n",
    "# -identified as producing all identical elements. Others certainly exist.\n",
    "\n",
    "np.arange(5) # This creates a range of integers from 0 to whatever number is contained within the parentheses, in this case 5:\n",
    "\n",
    "# Range of integer arrays can further be specified by adding 2 numbers into the argument: 1) the first number of the range, 2) the last-\n",
    "# -number of the range, and 3) the \"step\" size of the numbers in between -- arithmetic sequencing, essentially, as shown here:\n",
    "\n",
    "np.arange(1, 20, 3.66)\n",
    "\n",
    "# Lastly, using the linspace method, one can specify the first and last numbers of an array and then the number of intervals in between-\n",
    "# -the first and last, for example:\n",
    "np.linspace(0, 10, num=2)\n",
    "\n",
    "# Lastly, within the arguments for any of the above methods and, indeed, nearly all methods in Numpy, one can specify the datatype of-\n",
    "# -the data produced, for instance:\n",
    "d = np.empty(14, dtype=np.int64)\n",
    "print(d)"
   ]
  },
  {
   "attachments": {},
   "cell_type": "markdown",
   "metadata": {},
   "source": [
    "### Adding, Removing, and Sorting Elements\n",
    "\n",
    "This will cover np.sort() and np.concatenate()"
   ]
  },
  {
   "cell_type": "code",
   "execution_count": 20,
   "metadata": {},
   "outputs": [
    {
     "name": "stdout",
     "output_type": "stream",
     "text": [
      "[2 1 5 3 7 4 6 8]\n"
     ]
    }
   ],
   "source": [
    "arr = np.array([2, 1, 5, 3, 7, 4, 6, 8]) # Here, we have merely created a specific array of unsorted numbers, to be used later\n",
    "print(arr)"
   ]
  },
  {
   "cell_type": "code",
   "execution_count": 21,
   "metadata": {},
   "outputs": [
    {
     "data": {
      "text/plain": [
       "array([1, 2, 0], dtype=int64)"
      ]
     },
     "execution_count": 21,
     "metadata": {},
     "output_type": "execute_result"
    }
   ],
   "source": [
    "np.sort(arr) # Here, the sort() method is used to sort the numbers in the arr object in ascending order\n",
    "\n",
    "# The following sorting mechanisms exist also:\n",
    "\n",
    "# argsort(a, axis=-1, kind=None, order=None) which \"Perform an indirect sort along the given axis using the algorithm specified by-\n",
    "# -the kind keyword\". Usefuleness and implementation of argsort is  unclear.\n",
    "\n",
    "# lexsort(keys, axis=-1) which \"Given multiple sorting keys, which can be interpreted as columns in a spreadsheet, lexsort returns-\n",
    "# -an array of integer indices that describes the sort order by multiple columns.\" NOTE: Here is an extended example of how lexsort can-\n",
    "# -be used:\n",
    "\n",
    "surnames =    ('Hertz',    'Galilei', 'Hertz') # Two arrays are defined. Surnames, here and below->\n",
    "first_names = ('Heinrich', 'Galileo', 'Gustav') # The first names are defined.\n",
    "ind = np.lexsort((first_names, surnames)) # Then, lexsort called ind returns the index of each pair (Herts + Heinrich = 1, for example)\n",
    "ind"
   ]
  },
  {
   "cell_type": "code",
   "execution_count": 22,
   "metadata": {},
   "outputs": [
    {
     "data": {
      "text/plain": [
       "['Galilei, Galileo', 'Hertz, Gustav', 'Hertz, Heinrich']"
      ]
     },
     "execution_count": 22,
     "metadata": {},
     "output_type": "execute_result"
    }
   ],
   "source": [
    "[surnames[i] + \", \" + first_names[i] for i in ind] # Here, quite simply, the variable i allows for a function to loop through the \"columns\"-\n",
    "# -created by lexsort called ind. For each i (number), the function returns the first name and surname, split by a comma and space."
   ]
  },
  {
   "cell_type": "code",
   "execution_count": 23,
   "metadata": {},
   "outputs": [
    {
     "data": {
      "text/plain": [
       "array([1, 2, 3, 4, 5, 6, 7, 8])"
      ]
     },
     "execution_count": 23,
     "metadata": {},
     "output_type": "execute_result"
    }
   ],
   "source": [
    "# CONCATENATION, as with the same function in Excel, is used to combine several elements together\n",
    "a = np.array([1, 2, 3, 4])\n",
    "b = np.array([5, 6, 7, 8])\n",
    "np.concatenate((a, b)) # As demonstrated, the two arrays a and b are combined with the concatonate method"
   ]
  },
  {
   "cell_type": "code",
   "execution_count": 24,
   "metadata": {},
   "outputs": [
    {
     "data": {
      "text/plain": [
       "array([[1, 2],\n",
       "       [3, 4],\n",
       "       [5, 6]])"
      ]
     },
     "execution_count": 24,
     "metadata": {},
     "output_type": "execute_result"
    }
   ],
   "source": [
    "# Like the example above, elements which contain several numbers (2d arays) can be concatenated with a 1d array to produce a longer-\n",
    "# -2d array, as seen here:\n",
    "\n",
    "x = np.array([[1, 2], [3, 4]])\n",
    "y = np.array([[5, 6]])\n",
    "np.concatenate((x, y), axis=0) # As demonstrated, the two arrays are concatenated into a larger 2d array "
   ]
  },
  {
   "attachments": {},
   "cell_type": "markdown",
   "metadata": {},
   "source": [
    "### Knowing the Shape and Size of Arrays:\n",
    "This will cover ndarray.ndim, ndarray.size, ndarray.shape"
   ]
  },
  {
   "cell_type": "code",
   "execution_count": 25,
   "metadata": {},
   "outputs": [],
   "source": [
    "# ndarray.ndim reports back the number of dimensions/axes of an array: a 2D array has, naturally, 2 axes\n",
    "\n",
    "# ndarray.size reports back the number of elements of an array, that is, the product of individual axis elements: a 2D array\n",
    "# with 3 rows and 2 columns will have 6 elements (2*3=6)\n",
    "\n",
    "# ndarray.shape reports back a tuple of the number of individual axis elements of an array: the 2D array from above, with 3 rows-\n",
    "# -and 2 columns would be returned as (3, 2)"
   ]
  },
  {
   "cell_type": "code",
   "execution_count": 26,
   "metadata": {},
   "outputs": [],
   "source": [
    "# Demonstration of the above methods:\n",
    "array_example = np.array([[[0, 1, 2, 3],\n",
    "                           [4, 5, 6, 7]],\n",
    "\n",
    "                          [[0, 1, 2, 3],\n",
    "                           [4, 5, 6, 7]],\n",
    "\n",
    "                          [[0 ,1 ,2, 3],\n",
    "                           [4, 5, 6, 7]]])"
   ]
  },
  {
   "cell_type": "code",
   "execution_count": 27,
   "metadata": {},
   "outputs": [
    {
     "data": {
      "text/plain": [
       "3"
      ]
     },
     "execution_count": 27,
     "metadata": {},
     "output_type": "execute_result"
    }
   ],
   "source": [
    "array_example.ndim #This will return 3, as there are 3 axes in our array -> a prism"
   ]
  },
  {
   "cell_type": "code",
   "execution_count": 28,
   "metadata": {},
   "outputs": [
    {
     "data": {
      "text/plain": [
       "24"
      ]
     },
     "execution_count": 28,
     "metadata": {},
     "output_type": "execute_result"
    }
   ],
   "source": [
    "array_example.size #This will return 24, as this is the product of the individual axis elements (how long each axis is)\n",
    "# in this case, there is height of 3 (rows), a depth of 2 (perpendicular rows), and a width of 2 (columns), therefore: 3*2*4=24"
   ]
  },
  {
   "cell_type": "code",
   "execution_count": 29,
   "metadata": {},
   "outputs": [
    {
     "data": {
      "text/plain": [
       "(3, 2, 4)"
      ]
     },
     "execution_count": 29,
     "metadata": {},
     "output_type": "execute_result"
    }
   ],
   "source": [
    "array_example.shape #This will simply return a tuple of the number of individual axis elements, that match the calculations above"
   ]
  },
  {
   "attachments": {},
   "cell_type": "markdown",
   "metadata": {},
   "source": [
    "### Reshaping Arrays\n",
    "Using arr.reshape() and np.reshape"
   ]
  },
  {
   "cell_type": "code",
   "execution_count": 30,
   "metadata": {},
   "outputs": [
    {
     "name": "stdout",
     "output_type": "stream",
     "text": [
      "[0 1 2 3 4 5]\n",
      "[[0 1]\n",
      " [2 3]\n",
      " [4 5]]\n"
     ]
    }
   ],
   "source": [
    "# Given an array, arr.reshape can transform it into a differently shaped array with an equal number of elements. Ex:\n",
    "\n",
    "a = np.arange(6)\n",
    "print(a)\n",
    "\n",
    "b = a.reshape(3, 2)\n",
    "print(b)\n",
    "\n",
    "# Here, the original 1D array with 6 elements was tranformed into a 2D array with 3 rows and 2 columns, having also 6 elements."
   ]
  },
  {
   "cell_type": "code",
   "execution_count": 31,
   "metadata": {},
   "outputs": [
    {
     "data": {
      "text/plain": [
       "array([[0],\n",
       "       [1],\n",
       "       [2],\n",
       "       [3],\n",
       "       [4],\n",
       "       [5]])"
      ]
     },
     "execution_count": 31,
     "metadata": {},
     "output_type": "execute_result"
    }
   ],
   "source": [
    "# One can use the abovementioned np.reshape to give further arguments to how the array should be reshaped, though this is somewhat-\n",
    "# -niche in its use:\n",
    "\n",
    "np.reshape(a, newshape=(6, 1), order='F')\n",
    "\n",
    "# The arguments go as follows; a is simply the named variable of our array, specified above; newshape=() indicates how the new shape-\n",
    "# -of the array ought to appear, with the same rules regarding the number of elements as above; order='', where the possible options are\n",
    "# - C' or 'F' indicates the order type used in the indexing of the array. C order is Row-major whilst F order is Column-major. They\n",
    "# -refer to C code and Fortan code respectively, and in essence, C order reads from the last element of the array, then row-by-row\n",
    "# -unil it completes indexing the array. Whereas F order reads from the first element of the array, then column-by-column until it \n",
    "# -completes indexing the array. THIS argument is optional. "
   ]
  },
  {
   "attachments": {},
   "cell_type": "markdown",
   "metadata": {},
   "source": [
    "### On the Conversion of 1D Arrays into 2D Arrays & Other Transformations\n",
    "Use unclear; covers np.newaxis and np.expand_dims"
   ]
  },
  {
   "cell_type": "code",
   "execution_count": 32,
   "metadata": {},
   "outputs": [
    {
     "data": {
      "text/plain": [
       "(6,)"
      ]
     },
     "execution_count": 32,
     "metadata": {},
     "output_type": "execute_result"
    }
   ],
   "source": [
    "a = np.array([1, 2, 3, 4, 5, 6])\n",
    "a.shape\n",
    "# Given the above array as the example on which to use np.newaxis and np.expand_dims. Notice that the .shape method tells us\n",
    "# -that the shape is (6,) with a blank space following the comma, indicating 1 axis."
   ]
  },
  {
   "cell_type": "code",
   "execution_count": 33,
   "metadata": {},
   "outputs": [
    {
     "name": "stdout",
     "output_type": "stream",
     "text": [
      "(1, 6)\n",
      "[[1 2 3 4 5 6]]\n"
     ]
    }
   ],
   "source": [
    "a2 = a[np.newaxis, :] # Note the positioning of the \":\" argument, as its position is directly relevant to the transofrmation\n",
    "print(a2.shape)\n",
    "print(a2)\n",
    "\n",
    "# Notice that the .shape method tells us the the shape is now (1, 6), which fundamentally does not change the elements in the array,\n",
    "# -but rather changes the manner in which the array is read, now having 1 row of 6 columns."
   ]
  },
  {
   "cell_type": "code",
   "execution_count": 34,
   "metadata": {},
   "outputs": [
    {
     "name": "stdout",
     "output_type": "stream",
     "text": [
      "(6, 1)\n",
      "[[1]\n",
      " [2]\n",
      " [3]\n",
      " [4]\n",
      " [5]\n",
      " [6]]\n"
     ]
    }
   ],
   "source": [
    "a3 = a[:, np.newaxis] # Note that the \":\" argument is now in front of the .newaxis method, to indicate where the .newaxis method\n",
    "print(a3.shape) #-should be executed. Rememeber also that the order of interpretation for numbers is (rows, columns) and therefore\n",
    "print(a3) #- by putting the .newaxis method in the second slot, we create a column axis.\n",
    "\n",
    "# Note the switch between the product of the shape function between the first and second execution of the newaxis method: it is again-\n",
    "# -indicative of the fact that the first number in a tuple is read as the row and the second as the column."
   ]
  },
  {
   "attachments": {},
   "cell_type": "markdown",
   "metadata": {},
   "source": [
    "### Indexing and Slicing\n",
    "If you want to take only one section of a Numpy array and analyze it, you must first take a subset, slice, and/or index of said array.\n",
    "This is the manner by which that is done:\n",
    "\n",
    "NOTE: Where the index of elements begins at 0 from top->bottom, it can also be read in the negative. That is to say: the last element of\n",
    "an array 4 elements long can be thought of having both the index 3 (0,1,2,3 from top->bottom) and the index -0 (-0,-1,-2,-3 from bottom->top)\n",
    "        This fact can be used in indexing, though it strikes me as generally useless."
   ]
  },
  {
   "cell_type": "code",
   "execution_count": 35,
   "metadata": {},
   "outputs": [
    {
     "name": "stdout",
     "output_type": "stream",
     "text": [
      "[[ 1  3  4  1]\n",
      " [ 2  2 17  2]\n",
      " [ 4 13  8  9]]\n"
     ]
    }
   ],
   "source": [
    "c = np.array([[1 , 3, 4, 1], [2, 2, 17, 2], [4, 13, 8, 9]]) # Here we have a 2d array, with 3 rows and 4 columns\n",
    "print(c)\n"
   ]
  },
  {
   "cell_type": "code",
   "execution_count": 39,
   "metadata": {},
   "outputs": [
    {
     "name": "stdout",
     "output_type": "stream",
     "text": [
      "[1 3 4 1 2 2 2 4]\n",
      "[[ True  True  True  True]\n",
      " [ True  True False  True]\n",
      " [ True False False False]]\n",
      "[4 2 2 2 4 8]\n",
      "[ 4  4 13  8  9]\n"
     ]
    }
   ],
   "source": [
    "# Given this array, there are many slicing, indexing, and identifying methods we can apply to gain a better undersatnding of it\n",
    "print(c[c<5]) # Here, we print a, when a is less than 5\n",
    "\n",
    "# Similarly, we might want to see a boolean replace the number when it meets our conditions, such as here:\n",
    "print(c<5) \n",
    "\n",
    "# Naturally, \"greater than (<)\" as demonstrated above, is not the only operator we can use. <=, %x==0, and even combinations of conditions\n",
    "# -created using the & and | operators can be used to index an array as you like it, rather like SQL. Here are some examples:\n",
    "\n",
    "c_divby2 = c[c%2==0] # Here, we produce all the numbers which are divisible by 2 (that's what the %x==0 signifies)\n",
    "print(c_divby2)\n",
    "\n",
    "c_2conditions = c[(c >= 4) & (c <= 13)] # Here, we produce all the numbers greater or equal to 4 AND lesser or equal to 13\n",
    "print(c_2conditions)"
   ]
  }
 ],
 "metadata": {
  "kernelspec": {
   "display_name": "primedesk_dal",
   "language": "python",
   "name": "python3"
  },
  "language_info": {
   "codemirror_mode": {
    "name": "ipython",
    "version": 3
   },
   "file_extension": ".py",
   "mimetype": "text/x-python",
   "name": "python",
   "nbconvert_exporter": "python",
   "pygments_lexer": "ipython3",
   "version": "3.10.9"
  },
  "orig_nbformat": 4,
  "vscode": {
   "interpreter": {
    "hash": "35d5f87d2f96cfd650c14e393ee92788d0041f123843fa1cc6bb1e15709e3aa7"
   }
  }
 },
 "nbformat": 4,
 "nbformat_minor": 2
}
